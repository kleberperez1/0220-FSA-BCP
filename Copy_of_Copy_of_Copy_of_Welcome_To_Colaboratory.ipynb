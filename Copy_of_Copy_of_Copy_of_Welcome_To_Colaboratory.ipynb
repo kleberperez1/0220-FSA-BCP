{
  "nbformat": 4,
  "nbformat_minor": 0,
  "metadata": {
    "colab": {
      "name": "Copy of Copy of Copy of Welcome To Colaboratory",
      "provenance": [],
      "collapsed_sections": [],
      "include_colab_link": true
    },
    "kernelspec": {
      "display_name": "Python 3",
      "name": "python3"
    }
  },
  "cells": [
    {
      "cell_type": "markdown",
      "metadata": {
        "id": "view-in-github",
        "colab_type": "text"
      },
      "source": [
        "<a href=\"https://colab.research.google.com/github/kleberperez1/0220-FSA-BCP/blob/master/Copy_of_Copy_of_Copy_of_Welcome_To_Colaboratory.ipynb\" target=\"_parent\"><img src=\"https://colab.research.google.com/assets/colab-badge.svg\" alt=\"Open In Colab\"/></a>"
      ]
    },
    {
      "cell_type": "code",
      "metadata": {
        "id": "4RmwdVP5iFB5"
      },
      "source": [
        "#@title Default\n",
        "from google.colab import drive\n",
        "drive.mount('/content/drive')"
      ],
      "execution_count": null,
      "outputs": []
    },
    {
      "cell_type": "markdown",
      "metadata": {
        "id": "5fCEDCU_qrC0"
      },
      "source": [
        "\n",
        "<h1>2. Introduction to Problem Solving with Advanced Analytics</h1>\n",
        "\n",
        "Whether you're a **student**, a **data scientist** or an **AI researcher**, Udacity can help to launch your career. Watch [Optimizing Udacity Career Services\n",
        "](https://www.youtube.com/watch?v=ucUVMZDk_fI) to learn more, or just get started below!\n",
        "</br></br>\n"
      ]
    },
    {
      "cell_type": "code",
      "metadata": {
        "colab": {
          "base_uri": "https://localhost:8080/",
          "height": 336
        },
        "id": "1KBXElbZxRO1",
        "cellView": "form",
        "outputId": "0cee1787-5ad3-4725-9315-ba07ba687e85"
      },
      "source": [
        "#@title Program Hosts - Course Overview\n",
        "from IPython.display import HTML\n",
        "# Youtube\n",
        "HTML('<iframe width=\"560\" height=\"315\" src=\"https://www.youtube.com/embed/uag26xhmNmo?rel=0&amp;controls=0&amp;showinfo=0\" frameborder=\"0\" allowfullscreen></iframe>')\n",
        "# Vimeo\n",
        "# HTML('<iframe src=\"https://player.vimeo.com/video/26763844?title=0&byline=0&portrait=0\" width=\"700\" height=\"394\" frameborder=\"0\" webkitallowfullscreen mozallowfullscreen allowfullscreen></iframe><p><a href=\"https://vimeo.com/26763844\">BAXTER DURY - CLAIRE (Dir Cut)</a> from <a href=\"https://vimeo.com/dannysangra\">Danny Sangra</a> on <a href=\"https://vimeo.com\">Vimeo</a>.</p>')"
      ],
      "execution_count": null,
      "outputs": [
        {
          "output_type": "execute_result",
          "data": {
            "text/html": [
              "<iframe width=\"560\" height=\"315\" src=\"https://www.youtube.com/embed/uag26xhmNmo?rel=0&amp;controls=0&amp;showinfo=0\" frameborder=\"0\" allowfullscreen></iframe>"
            ],
            "text/plain": [
              "<IPython.core.display.HTML object>"
            ]
          },
          "metadata": {
            "tags": []
          },
          "execution_count": 17
        }
      ]
    },
    {
      "cell_type": "markdown",
      "metadata": {
        "id": "L955t3pruQfs"
      },
      "source": [
        "<br />\n",
        "\n",
        "## **Overview**\n",
        "\n",
        "The course will take you through two key analytical concepts to help you understand any business situation and help you choose the correct techniques to analyze your data.\n",
        "\n",
        "1.   Cross Industry Standard Process for Data Mining (CRISP-DM)\n",
        "2.   Predictive Methodology Map\n",
        "\n",
        "<br />\n",
        "\n",
        "## **CRISP-DM**\n",
        "\n",
        "This framework was originally developed by data miners in order to generalize the common approaches to defining and analyzing a problem. In this course, we will call CRISP-DM the \"Problem Solving Framework\".\n",
        "\n",
        "The framework is made up of 6 steps:\n",
        "\n",
        "1.   Business Issue Understanding\n",
        "2.   Data Understanding\n",
        "3.   Data Preparation\n",
        "4.   Analysis/Modeling\n",
        "5.   Validation\n",
        "6.   Presentation/Visualization\n"
      ]
    },
    {
      "cell_type": "code",
      "metadata": {
        "id": "tKKodBtF7cg4"
      },
      "source": [
        ""
      ],
      "execution_count": null,
      "outputs": []
    },
    {
      "cell_type": "code",
      "metadata": {
        "id": "RQCIcCm87cNW"
      },
      "source": [
        ""
      ],
      "execution_count": null,
      "outputs": []
    }
  ]
}